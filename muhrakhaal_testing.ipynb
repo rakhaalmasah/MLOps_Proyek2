{
  "nbformat": 4,
  "nbformat_minor": 0,
  "metadata": {
    "colab": {
      "provenance": []
    },
    "kernelspec": {
      "name": "python3",
      "display_name": "Python 3"
    },
    "language_info": {
      "name": "python"
    }
  },
  "cells": [
    {
      "cell_type": "markdown",
      "source": [
        "# **Proyek Pengembangan Machine Learning Pipeline :**\n",
        "- **Nama:** Muhammad Rakha Almasah\n",
        "- **Email:** muh.rakha.al@gmail.com\n",
        "- **ID Dicoding:** muhrakhaal"
      ],
      "metadata": {
        "id": "Au0u_FzI6PaA"
      }
    },
    {
      "cell_type": "code",
      "source": [
        "import requests\n",
        "FLASK_SERVER_URL = \"https://cc-model-serving-447282078912.asia-southeast2.run.app/predict\"\n",
        "data = {\n",
        "    \"features\": {\n",
        "        \"AAPL\": [142.65],\n",
        "        \"MSFT\": [342.64],\n",
        "        \"AMZN\": [131.12],\n",
        "        \"BRK_B\": [453.45],\n",
        "        \"IXIC\": [0.0]\n",
        "    }\n",
        "}\n",
        "\n",
        "response = requests.post(FLASK_SERVER_URL, json=data)\n",
        "\n",
        "if response.status_code == 200:\n",
        "    print(\"Hasil Prediksi:\", response.json()[\"predictions\"])\n",
        "else:\n",
        "    print(\"Error:\", response.text)"
      ],
      "metadata": {
        "id": "VeiZU2fu6V-k",
        "colab": {
          "base_uri": "https://localhost:8080/"
        },
        "outputId": "f66ce3d4-d4a1-4089-d7df-1c31a08d230c"
      },
      "execution_count": 9,
      "outputs": [
        {
          "output_type": "stream",
          "name": "stdout",
          "text": [
            "Hasil Prediksi: [[1084399.75]]\n"
          ]
        }
      ]
    }
  ]
}